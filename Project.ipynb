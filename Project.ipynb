{
  "nbformat": 4,
  "nbformat_minor": 0,
  "metadata": {
    "colab": {
      "provenance": []
    },
    "kernelspec": {
      "name": "python3",
      "display_name": "Python 3"
    },
    "language_info": {
      "name": "python"
    }
  },
  "cells": [
    {
      "cell_type": "code",
      "execution_count": null,
      "metadata": {
        "colab": {
          "base_uri": "https://localhost:8080/"
        },
        "id": "MgZO8ddEJNp0",
        "outputId": "31ba561b-4fd2-4031-e1b6-f09b3a0d26e4"
      },
      "outputs": [
        {
          "output_type": "stream",
          "name": "stdout",
          "text": [
            "[19, 21, 21, 22, 34, 35, 56, 56, 77, 89]\n",
            "[89, 77, 56, 56, 35, 34, 22, 21, 21, 19]\n"
          ]
        }
      ],
      "source": [
        "#List\n",
        "class List:\n",
        "#Initiallizing the function and its parameters\n",
        "  def __init__(self, contents=[], size=10):\n",
        "    self.size = size\n",
        "    self.items = [None] * size\n",
        "    self.numItems = 0\n",
        "    for e in contents:\n",
        "      self.append(e)\n",
        "#Initiallizing the append function allows us to state if number of items is equal to length of items then make a new list\n",
        "  def append(self, item):\n",
        "    if self.numItems == len(self.items):\n",
        "      newlst = [None] * self.numItems * 2\n",
        "      for k in range (len(self.items)):\n",
        "        newlst[k] = self.items[k]\n",
        "      self.items = newlst\n",
        "    self.items[self.numItems] = item\n",
        "    self.numItems += 1\n",
        "#Select function defines that the smallest index will be the number that goes first in the list of numbers\n",
        "#Furthermore, the j in range will check if its in range of items and if the next index is smaller than the previous it will replace as the next small item\n",
        "  def select(self, start):\n",
        "    minIndx = start\n",
        "    for j in range(start + 1, self.numItems):\n",
        "      if self.items[minIndx] > self.items[j]:\n",
        "        minIndx = j\n",
        "    return minIndx\n",
        "#Selection Sorter function is defined that if i is in range of all numItems - 1\n",
        "#Then, the function will select i and compare the indexes to be able to sort them from least to greatest value\n",
        "  def selSorter(self):\n",
        "    for i in range(self.numItems - 1):\n",
        "      minIndex = self.select(i)\n",
        "      tmp = self.items[i]\n",
        "      self.items[i] = self.items[minIndex]\n",
        "      self.items[minIndex] = tmp\n",
        "#Inverse List function is defined for the usefulness of reversing the list of numbers\n",
        "#Additionally, if the item is in range of total items it will push each of them\n",
        "#Finally, if i is in range of total items it will pop each of them making it reverse the order of items\n",
        "  def inverseList(self):\n",
        "    stack = Stack()\n",
        "    for item in self.items[:self.numItems]:\n",
        "      stack.push(item)\n",
        "    for i in range(self.numItems):\n",
        "      self.items[i] = stack.pop()\n",
        "#Stack\n",
        "class Stack:\n",
        "#Starting stack function by 1st defining the self.items\n",
        "  def __init__(self):\n",
        "    self.items = []\n",
        "#Pop function for getting the the result out of the stack\n",
        "  def pop(self):\n",
        "    if self.isEmpty():\n",
        "      raise RuntimeError(\"Attempt to pop an empty stack\")\n",
        "    topIdex = len(self.items) - 1\n",
        "    item = self.items[topIdex]\n",
        "    del self.items[topIdex]\n",
        "    return item\n",
        "#Push function for getting the result back into the stack\n",
        "  def push(self, item):\n",
        "    self.items.append(item)\n",
        "#Top function initialized\n",
        "  def top(self):\n",
        "    if self.isEmpty:\n",
        "      raise RuntimeError(\"Attempt to get top of empty stack\")\n",
        "    topIdex = len(self.items) - 1\n",
        "    return self.items[topIdex]\n",
        "#If empty function is defined\n",
        "  def isEmpty(self):\n",
        "    return len(self.items) == 0\n",
        "#Print function defined if empty function is not empty\n",
        "  def printS(self):\n",
        "    while not self.isEmpty():\n",
        "      print(self.pop())\n",
        "#Display results\n",
        "sortinglist = List([89, 21, 34, 56, 77, 22, 21, 35, 19, 56])\n",
        "sortinglist.selSorter()\n",
        "print(sortinglist.items)\n",
        "sortinglist.inverseList()\n",
        "print(sortinglist.items)"
      ]
    }
  ]
}